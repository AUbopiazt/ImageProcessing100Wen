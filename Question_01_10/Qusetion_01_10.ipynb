{
 "cells": [
  {
   "cell_type": "markdown",
   "metadata": {},
   "source": [
    "## Q.1. 通道交换\n",
    "\n",
    "读取图像，然后将 RGB 通道替换成 BGR 通道。\n",
    "\n",
    "下面的代码用于提取图像的红色通道。注意，`cv2.imread()` 的系数是按 BGR 顺序排列的！其中的变量 `red` 表示的是仅有原图像红通道的 `imori.jpg`。  \n",
    "\n",
    "| 输入 (imori.jpg) | 输出 (answers/answer_1.jpg) |\n",
    "| :--------------: | :-------------------------: |\n",
    "|  ![](imori.jpg)  |  ![](answers/answer_1.jpg)  |"
   ]
  },
  {
   "cell_type": "code",
   "execution_count": 3,
   "metadata": {},
   "outputs": [
    {
     "data": {
      "text/plain": [
       "-1"
      ]
     },
     "execution_count": 3,
     "metadata": {},
     "output_type": "execute_result"
    }
   ],
   "source": [
    "import cv2\n",
    "img = cv2.imread(\"imori.jpg\")\n",
    "red = img[:,:,2].copy()\n",
    "blue = img[:,:,0].copy()\n",
    "green = img[:,:,1].copy()\n",
    "img[:,:,0]=red\n",
    "img[:,:,1]=green\n",
    "img[:,:,2]=blue\n",
    "cv2.imshow('',img)\n",
    "cv2.waitKey(0)"
   ]
  },
  {
   "cell_type": "markdown",
   "metadata": {},
   "source": [
    "## Q.2. 灰度化（Grayscale）\n",
    "\n",
    "将图像灰度化吧！灰度是一种图像亮度的表示方法，通过下式计算：\n",
    "\n",
    "Y = 0.2126 R + 0.7152 G + 0.0722 B  \n",
    "\n",
    "| 输入 (imori.jpg) | 输出 (answers/answer_2.jpg) |\n",
    "| :--------------: | :-------------------------: |\n",
    "|  ![](imori.jpg)  |  ![](answers/answer_2.jpg)  |"
   ]
  },
  {
   "cell_type": "code",
   "execution_count": 14,
   "metadata": {},
   "outputs": [
    {
     "data": {
      "text/plain": [
       "-1"
      ]
     },
     "execution_count": 14,
     "metadata": {},
     "output_type": "execute_result"
    }
   ],
   "source": [
    "import cv2\n",
    "import numpy as np\n",
    "img = cv2.imread(\"imori.jpg\")\n",
    "red = img[:,:,2].copy()\n",
    "blue = img[:,:,0].copy()\n",
    "green = img[:,:,1].copy()\n",
    "Y = 0.2126*red+0.7152*green+0.0722*blue #dtype('float64')\n",
    "Y = Y.astype(np.uint8)\n",
    "cv2.imshow('',Y)\n",
    "cv2.waitKey(0)"
   ]
  },
  {
   "cell_type": "markdown",
   "metadata": {},
   "source": [
    "## Q.3. 二值化（Thresholding）\n",
    "\n",
    "把图像进行二值化吧！二值化是将图像使用黑和白两种值表示的方法。这里我们将灰度的阈值设置为 128 来进行二值化，即：\n",
    "\n",
    "```bash\n",
    "y = { 0 (if y < 128)\n",
    "     255 (else) \n",
    "```\n",
    "| 输入 (imori.jpg) | 输出 (answers/answer_3.jpg) |\n",
    "| :--------------: | :-------------------------: |\n",
    "|  ![](imori.jpg)  |  ![](answers/answer_3.jpg)  |"
   ]
  },
  {
   "cell_type": "code",
   "execution_count": 18,
   "metadata": {},
   "outputs": [
    {
     "data": {
      "text/plain": [
       "-1"
      ]
     },
     "execution_count": 18,
     "metadata": {},
     "output_type": "execute_result"
    }
   ],
   "source": [
    "import cv2\n",
    "import numpy as np\n",
    "img = cv2.imread(\"imori.jpg\")\n",
    "red = img[:,:,2].copy()\n",
    "blue = img[:,:,0].copy()\n",
    "green = img[:,:,1].copy()\n",
    "Y = 0.2126*red+0.7152*green+0.0722*blue #dtype('float64')\n",
    "Y = Y.astype(np.uint8)\n",
    "H,W = Y.shape\n",
    "y=128\n",
    "\"\"\"\n",
    "for i in range(0,H):\n",
    "    for j in range(0,W):\n",
    "        if Y[i,j]<y:\n",
    "            Y[i,j]=0\n",
    "        else:\n",
    "            Y[i,j]=255\n",
    "\"\"\"\n",
    "Y[Y<y]=0\n",
    "Y[Y>y]=255\n",
    "cv2.imshow('',Y)\n",
    "cv2.waitKey(0)"
   ]
  },
  {
   "cell_type": "markdown",
   "metadata": {},
   "source": [
    "## Q.4. 大津二值化算法（Otsu's Method）\n",
    "\n",
    "使用大津算法来二值化图像吧！大津算法，也被称作最大类间方差法，是一种可以自动确定二值化中阈值的算法，从类内方差和类间方差的比值计算得来：\n",
    "\n",
    "\n",
    "- 小于阈值 t 的类记作 0，大于阈值 t 的类记作 1；\n",
    "- w0 和 w1 是被阈值 t 分开的两个类中的像素数占总像素数的比率（满足 w0+w1=1）；\n",
    "- S0^2, S1^2 是这两个类中像素值的方差；\n",
    "- M0, M1 是这两个类的像素值的平均值；\n",
    "\n",
    "也就是说：\n",
    "\n",
    "```bash\n",
    "类内方差：Sw^2 = w0 * S0^2 + w1 * S1^2\n",
    "类间方差：Sb^2 = w0 * (M0 - Mt)^2 + w1 * (M1 - Mt)^2 = w0 * w1 * (M0 - M1) ^2\n",
    "图像所有像素的方差：St^2 = Sw^2 + Sb^2 = (const)\n",
    "根据以上的式子，我们用以下的式子计算分离度：  \n",
    "分离度 X = Sb^2 / Sw^2 = Sb^2 / (St^2 - Sb^2)\n",
    "```\n",
    "\n",
    "也就是说： \n",
    "\n",
    "```bash\n",
    "argmax_{t} X = argmax_{t} Sb^2\n",
    "```\n",
    "换言之，如果使``` Sb^2 =  w0 * w1 * (M0 - M1) ^2 ```最大，就可以得到最好的二值化阈值 t。\n",
    "\n",
    "\n",
    "\n",
    "它是按图像的灰度特性,将图像分成背景和目标两部分，或者说，是寻找一个阈值为K，将图像的颜色分为1,2.....K和K+1.....256两部分。\n",
    "\n",
    "如何确定这个阈值K？算法分类的原理是让背景和目标之间的类间方差最大，因为背景和目标之间的类间方差越大,说明构成图像的2部分的差别越大,错分的可能性越小。下面进行公式推导：\n",
    "\n",
    "首先是符号说明：对于图像I(x,y),前景(即目标)和背景的分割阈值记作T,属于前景的像素点数占整幅图像的比例记为ω1,其平均灰度μ1;背景像素点数占整幅图像的比例为ω2,其平均灰度为μ2。图像的总平均灰度记为μ,类间方差记为g。假设图像的背景较暗,并且图像的大小为M×N,图像中像素的灰度值小于阈值T的像素个数记作N1,像素灰度大于阈值T的像素个数记作N2。\n",
    "\n",
    "```bash\n",
    "ω1 = N1/M×N\n",
    "ω2 = N2/M×N\n",
    "N1+N2 = M×N\n",
    "ω1+ω2 = 1\n",
    "μ = μ1xω1 + μ2xω2\n",
    "g = ω1x(μ-μ1)^2 + ω2x(μ-μ2)^2\n",
    "=>g = ω1xω2x(μ1-μ2)^2\n",
    "```\n",
    "| 输入 (imori.jpg) | 输出 (th = 127) (answers/answer_4.jpg) |\n",
    "| :--------------: | :------------------------------------: |\n",
    "|  ![](imori.jpg)  |       ![](answers/answer_4.jpg)        |"
   ]
  },
  {
   "cell_type": "code",
   "execution_count": 24,
   "metadata": {},
   "outputs": [
    {
     "name": "stdout",
     "output_type": "stream",
     "text": [
      "threshold >> 127\n"
     ]
    },
    {
     "data": {
      "text/plain": [
       "-1"
      ]
     },
     "execution_count": 24,
     "metadata": {},
     "output_type": "execute_result"
    }
   ],
   "source": [
    "import cv2\n",
    "import numpy as np\n",
    "img = cv2.imread(\"imori.jpg\")\n",
    "red = img[:,:,2].copy()\n",
    "blue = img[:,:,0].copy()\n",
    "green = img[:,:,1].copy()\n",
    "Y = 0.2126*red+0.7152*green+0.0722*blue #dtype('float64')\n",
    "Y = Y.astype(np.uint8)\n",
    "H,W=Y.shape\n",
    "max_sigma = 0\n",
    "max_t = 0\n",
    "\n",
    "for _t in range(1, 255):\n",
    "    v0 = Y[np.where(Y < _t)]\n",
    "    if len(v0) != 0:\n",
    "        m0 = np.mean(v0) \n",
    "    w0 = len(v0) / (H * W)\n",
    "    v1 = Y[np.where(Y >= _t)]\n",
    "    m1 = np.mean(v1) if len(v1) > 0 else 0.\n",
    "    w1 = len(v1) / (H * W)\n",
    "    sigma = w0 * w1 * ((m0 - m1) ** 2)\n",
    "    if sigma > max_sigma:\n",
    "        max_sigma = sigma\n",
    "        max_t = _t\n",
    "print(\"threshold >>\", max_t)\n",
    "th = max_t\n",
    "Y[Y < th] = 0\n",
    "Y[Y >= th] = 255\n",
    "cv2.imshow('',Y)\n",
    "cv2.waitKey(0)"
   ]
  },
  {
   "cell_type": "markdown",
   "metadata": {},
   "source": [
    "## Q.5. HSV 变换\n",
    "\n",
    "将使用 HSV 表示色彩的图像的色相反转吧！\n",
    "\n",
    "HSV 即使用**色相（Hue）、饱和度（Saturation）、明度（Value）**来表示色彩的一种方式。\n",
    "\n",
    "- 色相：将颜色使用0到360度表示，就是平常所说的颜色名称，如红色、蓝色。色相与数值按下表对应：\n",
    "\n",
    "  | 红  | 黄  | 绿  | 青色 | 蓝色 | 品红 | 红  |  \n",
    "  | 0   | 60  | 120 | 180  | 240  | 300  | 360 |  \n",
    "\n",
    "- 饱和度：是指色彩的纯度，饱和度越低则颜色越黯淡( 0<= S < 1)；\n",
    "- 明度：即颜色的明暗程度。数值越高越接近白色，数值越低越接近黑色 ( 0 <= V < 1)；\n",
    "\n",
    "从 RGB 色彩表示转换到 HSV 色彩表示通过以下方式计算：\n",
    "\n",
    "R,G,B的值在[0, 1]之间：\n",
    "\n",
    "```bash\n",
    "Max = max(R,G,B)\n",
    "Min = min(R,G,B)\n",
    "\n",
    "H =  { 0                            (if Min=Max)\n",
    "       60 x (G-R) / (Max-Min) + 60  (if Min=B)\n",
    "       60 x (B-G) / (Max-Min) + 180 (if Min=R)\n",
    "       60 x (R-B) / (Max-Min) + 300 (if Min=G)\n",
    "       \n",
    "V = Max\n",
    "\n",
    "S = Max - Min\n",
    "```\n",
    "\n",
    "从 HSV 色彩表示转换到 RGB 色彩表示通过以下方式计算：\n",
    "\n",
    "```bash\n",
    "C = S\n",
    "\n",
    "H' = H / 60\n",
    "\n",
    "X = C (1 - |H' mod 2 - 1|)\n",
    "\n",
    "(R,G,B) = (V - C) (1,1,1) + { (0, 0, 0)  (if H is undefined)\n",
    "                              (C, X, 0)  (if 0 <= H' < 1)\n",
    "                              (X, C, 0)  (if 1 <= H' < 2)\n",
    "                              (0, C, X)  (if 2 <= H' < 3)\n",
    "                              (0, X, C)  (if 3 <= H' < 4)\n",
    "                              (X, 0, C)  (if 4 <= H' < 5)\n",
    "                              (C, 0, X)  (if 5 <= H' < 6)\n",
    "```\n",
    "请将色相反转（色相值加180），然后再用 RGB 色彩空间表示图片。\n",
    "\n",
    "| 输入 (imori.jpg) | 输出 (answers/answer_5.jpg) |\n",
    "| :--------------: | :-------------------------: |\n",
    "|  ![](imori.jpg)  |  ![](answers/answer_5.jpg)  |"
   ]
  },
  {
   "cell_type": "code",
   "execution_count": 73,
   "metadata": {},
   "outputs": [
    {
     "name": "stderr",
     "output_type": "stream",
     "text": [
      "D:\\Anaconda3\\lib\\site-packages\\ipykernel_launcher.py:18: RuntimeWarning: invalid value encountered in true_divide\n",
      "D:\\Anaconda3\\lib\\site-packages\\ipykernel_launcher.py:30: RuntimeWarning: invalid value encountered in remainder\n",
      "D:\\Anaconda3\\lib\\site-packages\\ipykernel_launcher.py:36: RuntimeWarning: invalid value encountered in remainder\n",
      "D:\\Anaconda3\\lib\\site-packages\\ipykernel_launcher.py:43: RuntimeWarning: invalid value encountered in greater_equal\n",
      "D:\\Anaconda3\\lib\\site-packages\\ipykernel_launcher.py:43: RuntimeWarning: invalid value encountered in less\n"
     ]
    },
    {
     "data": {
      "text/plain": [
       "-1"
      ]
     },
     "execution_count": 73,
     "metadata": {},
     "output_type": "execute_result"
    }
   ],
   "source": [
    "\n",
    "import cv2\n",
    "import numpy as np\n",
    "img = cv2.imread(\"imori.jpg\")/255.0\n",
    "red = img[:,:,2].copy()\n",
    "blue = img[:,:,0].copy()\n",
    "green = img[:,:,1].copy()\n",
    "out = np.zeros_like(img)\n",
    "max_v = np.maximum(red,np.maximum(blue,green))\n",
    "#max_v = np.max(img, axis=2).copy()\n",
    "min_v = np.minimum(red,np.minimum(blue,green))\n",
    "#min_v = np.min(img,axis = 2).copy()\n",
    "min_arg = np.argmin(img, axis=2)\n",
    "H = np.zeros_like(max_v)\n",
    "H[np.where(max_v == min_v)]=0\n",
    "## if min == B\n",
    "ind = np.where(min_arg == 0)\n",
    "H[ind] = 60 * (green[ind] - red[ind]) / (max_v[ind] - min_v[ind]) + 60\n",
    "## if min == R\n",
    "ind = np.where(min_arg == 2)\n",
    "H[ind] = 60 * (blue[ind] - green[ind]) / (max_v[ind] - min_v[ind]) + 180\n",
    "## if min == G\n",
    "ind = np.where(min_arg == 1)\n",
    "H[ind] = 60 * (red[ind] - blue[ind]) / (max_v[ind] - min_v[ind]) + 300\n",
    "\n",
    "\n",
    "V = max_v.copy()\n",
    "S =max_v.copy()-min_v.copy()\n",
    "\n",
    "H = (H+180)%360\n",
    "\n",
    "C = S\n",
    "\n",
    "H1 = H / 60\n",
    "\n",
    "X = C*(1 - np.abs( H1 % 2 - 1))\n",
    "\n",
    "Z = np.zeros_like(H)\n",
    "\n",
    "val = [[C,X,Z],[X,C,Z],[Z,C,X],[Z,X,C],[X,Z,C],[C,Z,X]]\n",
    "#val = [[Z,X,C], [Z,C,X], [X,C,Z], [C,X,Z], [C,Z,X], [X,Z,C]]\n",
    "for i in range(6):\n",
    "    ind = np.where((i <= H1) & (H1 < (i+1)))\n",
    "    out[:,:,0][ind] = (V -C)[ind] +val[i][0][ind]\n",
    "    out[:,:,1][ind] = (V-C)[ind] +val[i][1][ind]\n",
    "    out[:,:,2][ind] = (V-C)[ind]+val[i][2][ind]\n",
    "out[np.where(max_v ==min_v)]=0\n",
    "out = (out * 255).astype(np.uint8) \n",
    "cv2.imshow(\"result\", out)\n",
    "cv2.waitKey(0)\n",
    "\n"
   ]
  },
  {
   "cell_type": "markdown",
   "metadata": {},
   "source": [
    "## Q.6. 减色处理\n",
    "\n",
    "> 这里没有找到\"減色処理\"准确的中文翻译，所以直译了。\n",
    ">\n",
    "> ——gzr\n",
    "\n",
    "这里我们将图像的值由256^3压缩至4^3，即将 RGB 的值只取 {32, 96, 160, 224}。这被称作色彩量化。色彩的值按照下面的方式定义：\n",
    "\n",
    "```bash\n",
    "val = {  32  (  0 <= val <  64)\n",
    "         96  ( 64 <= val < 128)\n",
    "        160  (128 <= val < 192)\n",
    "        224  (192 <= val < 256)\n",
    "```\n",
    "| 输入 (imori.jpg) | 输出 (answers/answer_6.jpg) |\n",
    "| :--------------: | :-------------------------: |\n",
    "|  ![](imori.jpg)  |  ![](answers/answer_6.jpg)  |"
   ]
  },
  {
   "cell_type": "code",
   "execution_count": 95,
   "metadata": {},
   "outputs": [
    {
     "data": {
      "text/plain": [
       "-1"
      ]
     },
     "execution_count": 95,
     "metadata": {},
     "output_type": "execute_result"
    }
   ],
   "source": [
    "import cv2\n",
    "\n",
    "img = cv2.imread(\"imori.jpg\")\n",
    "out = img.copy()\n",
    "out1 = img.copy()\n",
    "\n",
    "for i in range(len(out)):\n",
    "    for j in range(len(out)):\n",
    "        for k in range(3):\n",
    "            if ((0 <= out[i,j,k]) & (out[i,j,k] < 64)):\n",
    "                out[i,j,k] = 32\n",
    "            elif ((64 <= out[i,j,k]) & (out[i,j,k] < 128)):\n",
    "                out[i,j,k] = 96\n",
    "            elif ((128 <= out[i,j,k]) & (out[i,j,k] < 192)):\n",
    "                out[i,j,k] = 160\n",
    "            else:\n",
    "                out[i,j,k] = 224\n",
    "\n",
    "out1 = out1 // 64 * 64 + 32\n",
    "cv2.imshow(\"\",out1)\n",
    "cv2.waitKey(0)"
   ]
  },
  {
   "cell_type": "markdown",
   "metadata": {},
   "source": [
    "## Q.7. 平均池化（Average Pooling）\n",
    "\n",
    "将图片按照固定大小网格分割，网格内的像素值取网格内所有像素的平均值。我们将这种把图片使用均等大小网格分割，并求网格内代表值的操作称为池化（Pooling）。池化操作是卷积神经网络（Convolutional Neural Network）中重要的图像处理方式。平均池化按照下式定义：\n",
    "\n",
    "```bash\n",
    "v = 1/|R| * Sum_{i in R} v_i\n",
    "```\n",
    "\n",
    "请把大小为 128x128 的`imori.jpg`使用 8x8 的网格做平均池化。\n",
    "\n",
    "| 输入 (imori.jpg) | 输出 (answers/answer_7.jpg) |\n",
    "| :--------------: | :-------------------------: |\n",
    "|  ![](imori.jpg)  |  ![](answers/answer_7.jpg)  |"
   ]
  },
  {
   "cell_type": "code",
   "execution_count": 97,
   "metadata": {},
   "outputs": [
    {
     "data": {
      "text/plain": [
       "-1"
      ]
     },
     "execution_count": 97,
     "metadata": {},
     "output_type": "execute_result"
    }
   ],
   "source": [
    "import cv2\n",
    "import numpy as np\n",
    "img = cv2.imread('imori.jpg')\n",
    "out = img.copy()\n",
    "\n",
    "H,W,C = out.shape\n",
    "G = 8\n",
    "Nh = int(H/G)\n",
    "Nw = int(W/G)\n",
    "\n",
    "for i in range(Nh):\n",
    "    for j in range(Nw):\n",
    "        for k in range(C):\n",
    "            out[G*i:G*(i+1), G*j:G*(j+1), k] = np.mean(out[G*i:G*(i+1), G*j:G*(j+1), k]).astype(np.int)\n",
    "cv2.imshow('',out)\n",
    "cv2.waitKey(0)"
   ]
  },
  {
   "cell_type": "markdown",
   "metadata": {},
   "source": [
    "## Q.8. 最大池化（Max Pooling）\n",
    "\n",
    "网格内的值不取平均值，而是取网格内的最大值进行池化操作。\n",
    "\n",
    "| 输入 (imori.jpg) | 输出 (answers/answer_8.jpg) |\n",
    "| :--------------: | :-------------------------: |\n",
    "|  ![](imori.jpg)  |  ![](answers/answer_8.jpg)  |"
   ]
  },
  {
   "cell_type": "code",
   "execution_count": 98,
   "metadata": {},
   "outputs": [
    {
     "data": {
      "text/plain": [
       "-1"
      ]
     },
     "execution_count": 98,
     "metadata": {},
     "output_type": "execute_result"
    }
   ],
   "source": [
    "import cv2\n",
    "import numpy as np\n",
    "img = cv2.imread('imori.jpg')\n",
    "out = img.copy()\n",
    "\n",
    "H,W,C = out.shape\n",
    "G = 8\n",
    "Nh = int(H/G)\n",
    "Nw = int(W/G)\n",
    "\n",
    "for i in range(Nh):\n",
    "    for j in range(Nw):\n",
    "        for k in range(C):\n",
    "            out[G*i:G*(i+1), G*j:G*(j+1), k] = np.max(out[G*i:G*(i+1), G*j:G*(j+1), k]).astype(np.int)\n",
    "            \n",
    "cv2.imshow('',out)\n",
    "cv2.waitKey(0)"
   ]
  },
  {
   "cell_type": "markdown",
   "metadata": {},
   "source": [
    "## Q.9. 高斯滤波（Gaussian Filter）\n",
    "\n",
    "使用高斯滤波器（3x3 大小，标准差 s=1.3​）来对`imori_noise.jpg`进行降噪处理吧！\n",
    "\n",
    "高斯滤波器是一种可以使图像平滑的滤波器，用于去除噪声。可用于去除噪声的滤波器还有中值滤波器（参见问题10），平滑滤波器（参见问题11）、LoG 滤波器（参见问题19）。\n",
    "\n",
    "高斯滤波器将中心像素周围的像素按照高斯分布加权平均进行平滑化。这样的（二维）权值通常被称为卷积核或者滤波器。\n",
    "\n",
    "但是，由于图像的长宽可能不是滤波器大小的整数倍，因此我们需要在图像的边缘补0。这种方法称作 Zero Padding。并且权值（卷积核）要进行[归一化操作](https://blog.csdn.net/lz0499/article/details/54015150)(sum g = 1)。\n",
    "\n",
    "```bash\n",
    "权值 g(x,y,s) = 1/ (s*sqrt(2 * pi)) * exp( - (x^2 + y^2) / (2*s^2))\n",
    "标准差 s = 1.3 的 8 近邻 高斯滤波器如下：\n",
    "            1 2 1\n",
    "K =  1/16 [ 2 4 2 ]\n",
    "            1 2 1\n",
    "```\n",
    "| 输入 (imori_noise.jpg) | 输出 (answers/answer_9.jpg) |\n",
    "| :--------------------: | :-------------------------: |\n",
    "|  ![](imori_noise.jpg)  |  ![](answers/answer_9.jpg)  |"
   ]
  },
  {
   "cell_type": "code",
   "execution_count": 107,
   "metadata": {},
   "outputs": [
    {
     "data": {
      "text/plain": [
       "-1"
      ]
     },
     "execution_count": 107,
     "metadata": {},
     "output_type": "execute_result"
    }
   ],
   "source": [
    "import cv2\n",
    "\n",
    "img = cv2.imread('imori_noise.jpg')\n",
    "H,W,C = img.shape\n",
    "\n",
    "K_size = 3\n",
    "s = 1.3\n",
    "\n",
    "pad = K_size // 2\n",
    "out = np.zeros((H + pad*2, W + pad*2, C), dtype=np.float)\n",
    "out[pad:pad+H,pad:pad+W] = img.copy().astype(np.float)\n",
    "#求卷积核\n",
    "K = np.zeros((K_size, K_size), dtype=np.float)\n",
    "for i in range(-pad, -pad+K_size):\n",
    "    for j in range(-pad, -pad+K_size):\n",
    "        K[i+pad, j+pad] = np.exp( -(i**2 + j**2) / (2* (sigma**2)))\n",
    "#print(K)        \n",
    "K /= (sigma * np.sqrt(2 * np.pi))\n",
    "#print(K) \n",
    "K /= K.sum()\n",
    "tmp = out.copy()\n",
    "\n",
    "for i in range(H):\n",
    "    for j in range(W):\n",
    "        for k in range(C):\n",
    "            out[pad+i, pad+j, k] = np.sum(K * tmp[i:i+K_size, j:j+K_size, k])\n",
    "\n",
    "out = out[pad:pad+H, pad:pad+W].astype(np.uint8)\n",
    "cv2.imshow('',out)\n",
    "cv2.waitKey(0)"
   ]
  },
  {
   "cell_type": "markdown",
   "metadata": {},
   "source": [
    "## Q.10 中值滤波（Median filter）\n",
    "\n",
    "使用中值滤波器（3x 3大小）来对`imori_noise.jpg`进行降噪处理吧！\n",
    "\n",
    "中值滤波器是一种可以使图像平滑的滤波器。这种滤波器用滤波器范围内（在这里是3x3）像素点的中值进行滤波，在这里也采用 Zero Padding。\n",
    "\n",
    "| 输入 (imori_noise.jpg) | 输出 (answers/answer_10.jpg) |\n",
    "| :--------------------: | :--------------------------: |\n",
    "|  ![](imori_noise.jpg)  |  ![](answers/answer_10.jpg)  |"
   ]
  },
  {
   "cell_type": "code",
   "execution_count": 108,
   "metadata": {
    "collapsed": true
   },
   "outputs": [],
   "source": [
    "import cv2\n",
    "import numpy as np\n",
    "\n",
    "# Read image\n",
    "img = cv2.imread(\"imori_noise.jpg\")\n",
    "H, W, C = img.shape\n",
    "\n",
    "\n",
    "# Median Filter\n",
    "K_size = 3\n",
    "\n",
    "## Zero padding\n",
    "pad = K_size // 2\n",
    "out = np.zeros((H + pad*2, W + pad*2, C), dtype=np.float)\n",
    "out[pad:pad+H, pad:pad+W] = img.copy().astype(np.float)\n",
    "\n",
    "tmp = out.copy()\n",
    "\n",
    "for i in range(H):\n",
    "    for j in range(W):\n",
    "        for k in range(C):\n",
    "            out[pad+i, pad+j, k] = np.median(tmp[i:i+K_size, j:j+K_size, k])\n",
    "\n",
    "out = out[pad:pad+H, pad:pad+W].astype(np.uint8)\n",
    "\n",
    "# Save result\n",
    "\n",
    "cv2.imshow(\"result\", out)\n",
    "cv2.waitKey(0)\n",
    "cv2.destroyAllWindows()\n"
   ]
  },
  {
   "cell_type": "code",
   "execution_count": null,
   "metadata": {
    "collapsed": true
   },
   "outputs": [],
   "source": []
  }
 ],
 "metadata": {
  "kernelspec": {
   "display_name": "Python 3",
   "language": "python",
   "name": "python3"
  },
  "language_info": {
   "codemirror_mode": {
    "name": "ipython",
    "version": 3
   },
   "file_extension": ".py",
   "mimetype": "text/x-python",
   "name": "python",
   "nbconvert_exporter": "python",
   "pygments_lexer": "ipython3",
   "version": "3.6.3"
  }
 },
 "nbformat": 4,
 "nbformat_minor": 2
}
