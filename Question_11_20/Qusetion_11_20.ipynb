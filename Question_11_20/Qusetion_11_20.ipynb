{
 "cells": [
  {
   "cell_type": "markdown",
   "metadata": {},
   "source": [
    "## Q.11. 均值滤波器\n",
    "\n",
    "使用均值滤波器（3x3）来进行滤波吧！\n",
    "\n",
    "均值滤波器使用网格内像素的平均值。\n",
    "\n",
    "| 输入 (imori.jpg) | 输出 (answers/answer_11.jpg) |\n",
    "| :--------------: | :--------------------------: |\n",
    "|  ![](imori.jpg)  |  ![](answers/answer_11.jpg)  |"
   ]
  },
  {
   "cell_type": "code",
   "execution_count": 3,
   "metadata": {},
   "outputs": [
    {
     "data": {
      "text/plain": [
       "-1"
      ]
     },
     "execution_count": 3,
     "metadata": {},
     "output_type": "execute_result"
    }
   ],
   "source": [
    "import cv2\n",
    "import numpy as np\n",
    "\n",
    "img = cv2.imread(\"imori.jpg\")\n",
    "H,W,C = img.shape\n",
    "\n",
    "K_size = 3\n",
    "\n",
    "pad = K_size //2\n",
    "out = np.zeros((H+pad*2,W+pad*2,C),dtype = np.float)\n",
    "out[pad:pad+H,pad:pad+W] = img.copy().astype(np.float)\n",
    "\n",
    "tmp = out.copy()\n",
    "\n",
    "for i in range(H):\n",
    "    for j in range(W):\n",
    "        for k in range(C):\n",
    "            out[i+pad,j+pad,k] = np.mean(tmp[i:i+K_size,j:j+K_size,k])\n",
    "\n",
    "out = out[pad:pad+H,pad:pad+W].astype(np.uint8)\n",
    "\n",
    "cv2.imshow('',out)\n",
    "cv2.waitKey(0)"
   ]
  },
  {
   "cell_type": "markdown",
   "metadata": {},
   "source": [
    "## Q.12. Motion Filter\n",
    "\n",
    "使用3x3的 Motion Filter 来进行滤波吧。\n",
    "\n",
    "Motion Filter 取对角线方向的像素的平均值，像下式这样定义：\n",
    "\n",
    "```bash\n",
    "  1/3  0   0\n",
    "[  0  1/3  0 ]\n",
    "   0   0  1/3\n",
    "```\n",
    "| 输入 (imori.jpg) | 输出 (answers/answer_12.jpg) |\n",
    "| :--------------: | :--------------------------: |\n",
    "|  ![](imori.jpg)  |  ![](answers/answer_12.jpg)  |"
   ]
  },
  {
   "cell_type": "code",
   "execution_count": 16,
   "metadata": {},
   "outputs": [
    {
     "data": {
      "text/plain": [
       "-1"
      ]
     },
     "execution_count": 16,
     "metadata": {},
     "output_type": "execute_result"
    }
   ],
   "source": [
    "import cv2\n",
    "import numpy as np\n",
    "\n",
    "img = cv2.imread(\"imori.jpg\")\n",
    "H,W,C =img.shape\n",
    "\n",
    "K_size = 3\n",
    "\n",
    "pad = K_size //2\n",
    "\n",
    "out = np.zeros((pad*2+H,pad*2+W,C),dtype=np.float)\n",
    "out[pad:pad+H,pad:pad+W] = img.copy().astype(np.float)\n",
    "\n",
    "tmp = out.copy()\n",
    "\n",
    "K = np.diag([1/K_size]*3)\n",
    "\n",
    "for i in range(H):\n",
    "    for j in range(W):\n",
    "        for k in range(C):\n",
    "            out[i+pad,j+pad,k] = np.sum(K*tmp[i:i+K_size,j:j+K_size,k])\n",
    "\n",
    "out = out[pad:pad+H,pad:pad+W].astype(np.uint8)\n",
    "cv2.imshow('',out)\n",
    "cv2.waitKey(0)\n",
    "\n",
    "\n"
   ]
  },
  {
   "cell_type": "markdown",
   "metadata": {},
   "source": [
    "## Q.13. MAX-MIN 滤波器\n",
    "\n",
    "使用 MAX-MIN 滤波器来进行滤波吧。\n",
    "\n",
    "MAX-MIN 滤波器使用网格内像素的最大值和最小值的差值对网格内像素重新赋值。通常用于**边缘检测**。边缘检测用于检测图像中的线。像这样提取图像中的信息的操作被称为**特征提取**。边缘检测通常在灰度图像上进行。  \n",
    "灰度化：Y = 0.2126 R + 0.7152 G + 0.0722 B  \n",
    "\n",
    "| 输入 (imori.jpg) | 输出 (answers/answer_13.jpg) |\n",
    "| :--------------: | :--------------------------: |\n",
    "|  ![](imori.jpg)  |  ![](answers/answer_13.jpg)  |"
   ]
  },
  {
   "cell_type": "code",
   "execution_count": 23,
   "metadata": {},
   "outputs": [
    {
     "data": {
      "text/plain": [
       "-1"
      ]
     },
     "execution_count": 23,
     "metadata": {},
     "output_type": "execute_result"
    }
   ],
   "source": [
    "import cv2\n",
    "import numpy as np\n",
    "\n",
    "img = cv2.imread(\"imori.jpg\")\n",
    "H,W,C = img.shape\n",
    "blue = img[:,:,0].copy()\n",
    "green = img[:,:,1].copy()\n",
    "red = img[:,:,2].copy()\n",
    "\n",
    "Y = 0.2126*red + 0.7152*green + 0.0722*blue\n",
    "Y = Y.astype(np.uint8)\n",
    "\n",
    "K_size = 3\n",
    "\n",
    "pad = K_size //2\n",
    "\n",
    "out = np.zeros((pad*2+H,pad*2+W),dtype=np.float)\n",
    "out[pad:pad+H,pad:pad+W] = Y.copy().astype(np.float)\n",
    "\n",
    "tmp = out.copy()\n",
    "\n",
    "for i in range(H):\n",
    "    for j in range(W):\n",
    "        out[i+pad,j+pad] = np.max(tmp[i:i+K_size,j:j+K_size]) - np.min(tmp[i:i+K_size,j:j+K_size])\n",
    "        \n",
    "out = out[pad:pad+H,pad:pad+W].astype(np.uint8)\n",
    "\n",
    "cv2.imshow('',out)\n",
    "cv2.waitKey(0)"
   ]
  },
  {
   "cell_type": "markdown",
   "metadata": {},
   "source": [
    "## Q.14. 微分滤波器\n",
    "\n",
    "使用3x3的微分滤波器来进行滤波吧。\n",
    "\n",
    "微分滤波器对图像亮度急剧变化的边缘有提取效果，可以获得邻接像素的差值。\n",
    "\n",
    "```bash\n",
    "    (a)纵向         (b)横向\n",
    "      0 -1  0            0 0 0\n",
    "K = [ 0  1  0 ]   K = [ -1 1 0 ]\n",
    "      0  0  0            0 0 0\n",
    "```\n",
    "| 输入 (imori.jpg) | 输出・纵向 (answers/answer_14_v.jpg) | 输出・横向 (answers/answer_14_h.jpg) |\n",
    "| :--------------: | :----------------------------------: | :----------------------------------: |\n",
    "|  ![](imori.jpg)  |     ![](answers/answer_14_v.jpg)     |     ![](answers/answer_14_h.jpg)     |"
   ]
  },
  {
   "cell_type": "code",
   "execution_count": 26,
   "metadata": {},
   "outputs": [
    {
     "data": {
      "text/plain": [
       "-1"
      ]
     },
     "execution_count": 26,
     "metadata": {},
     "output_type": "execute_result"
    }
   ],
   "source": [
    "import cv2\n",
    "import numpy as np\n",
    "\n",
    "img = cv2.imread(\"imori.jpg\")\n",
    "H,W,C = img.shape\n",
    "blue = img[:,:,0].copy()\n",
    "green = img[:,:,1].copy()\n",
    "red = img[:,:,2].copy()\n",
    "\n",
    "Y = 0.2126*red + 0.7152*green + 0.0722*blue\n",
    "Y = Y.astype(np.uint8)\n",
    "\n",
    "K_size = 3\n",
    "\n",
    "pad = K_size //2\n",
    "\n",
    "out = np.zeros((pad*2+H,pad*2+W),dtype=np.float)\n",
    "out[pad:pad+H,pad:pad+W] = Y.copy().astype(np.float)\n",
    "\n",
    "tmp = out.copy()\n",
    "\n",
    "out_a = out.copy()\n",
    "out_b = out.copy()\n",
    "\n",
    "Ka = [[0.,-1.,0.],[0.,1.,0.],[0.,0.,0.]]\n",
    "Kb = [[0.,0.,0.],[-1..,1.,0.],[0.,0.,0.]]\n",
    "\n",
    "for i in range(H):\n",
    "    for j in range(W):\n",
    "        out_a[pad+i,pad+j] = np.sum(Ka*tmp[i:i+K_size,j:j+K_size])\n",
    "        out_b[pad+i,pad+j] = np.sum(Kb*tmp[i:i+K_size,j:j+K_size])\n",
    "        \n",
    "out_a[out_a < 0] = 0\n",
    "out_b[out_b < 0] = 0\n",
    "out_a[out_a > 255] = 255\n",
    "out_b[out_b > 255] = 255\n",
    "\n",
    "out_a = out_a[pad:pad+H,pad:pad+W].astype(np.uint8)\n",
    "out_b = out_b[pad:pad+H,pad:pad+W].astype(np.uint8)\n",
    "\n",
    "cv2.imshow('',out_a)\n",
    "cv2.waitKey(0)\n",
    "cv2.imshow('',out_b)\n",
    "cv2.waitKey(0)"
   ]
  },
  {
   "cell_type": "markdown",
   "metadata": {},
   "source": [
    "## Q.15. Sobel 滤波器\n",
    "\n",
    "使用3x3的 Sobel 滤波器来进行滤波吧。\n",
    "\n",
    "Sobel 滤波器可以提取特定方向的边缘，滤波器按下式定义：\n",
    "\n",
    "```bash\n",
    "    (a)纵向       (b)横向\n",
    "      1 0 -1            1  2  1\n",
    "K = [ 2 0 -2 ]   K = [  0  0  0 ]\n",
    "      1 0 -1           -1 -2 -1\n",
    "```\n",
    "| 输入 (imori.jpg) | 输出・纵向 (answers/answer_15_v.jpg) | 输出・横向 (answers/answer_15_h.jpg) |\n",
    "| :--------------: | :----------------------------------: | :----------------------------------: |\n",
    "|  ![](imori.jpg)  |     ![](answers/answer_15_v.jpg)     |     ![](answers/answer_15_h.jpg)     |"
   ]
  },
  {
   "cell_type": "code",
   "execution_count": 27,
   "metadata": {},
   "outputs": [
    {
     "data": {
      "text/plain": [
       "-1"
      ]
     },
     "execution_count": 27,
     "metadata": {},
     "output_type": "execute_result"
    }
   ],
   "source": [
    "import cv2\n",
    "import numpy as np\n",
    "\n",
    "img = cv2.imread(\"imori.jpg\")\n",
    "H,W,C = img.shape\n",
    "\n",
    "blue = img[...,0].copy()\n",
    "green = img[...,1].copy()\n",
    "red = img[...,2].copy()\n",
    "\n",
    "Y = 0.2126*red + 0.7152*green + 0.0722*blue\n",
    "Y = Y.astype(np.uint8)\n",
    "\n",
    "K_size = 3\n",
    "pad = K_size //2\n",
    "\n",
    "out = np.zeros((pad*2+H,pad*2+W),dtype=np.float)\n",
    "out[pad:pad+H,pad:pad+W] = Y.copy().astype(np.float)\n",
    "\n",
    "tmp = out.copy()\n",
    "\n",
    "out_a = out.copy()\n",
    "out_b = out.copy()\n",
    "\n",
    "K_a = [[1.,0.,-1.],[2.,0.,-2.],[1.,0.,-1.]]\n",
    "K_b = [[1.,2.,1.],[0.,0.,0.],[-1.,-2.,-1.]]\n",
    "\n",
    "for i in range(H):\n",
    "    for j in range(W):\n",
    "        out_a[i+pad,j+pad] = np.sum(K_a*tmp[i:i+K_size,j:j+K_size])\n",
    "        out_b[i+pad,j+pad] = np.sum(K_b*tmp[i:i+K_size,j:j+K_size])\n",
    "        \n",
    "out_a[out_a<0] = 0\n",
    "out_b[out_b<0] = 0\n",
    "out_a[out_a>255] = 255\n",
    "out_b[out_b>255] = 255\n",
    "\n",
    "out_a = out_a[pad:pad+H,pad:pad+W].astype(np.uint8)\n",
    "out_b = out_b[pad:pad+H,pad:pad+W].astype(np.uint8)\n",
    "\n",
    "cv2.imshow('',out_a)\n",
    "cv2.waitKey(0)\n",
    "cv2.imshow('',out_b)\n",
    "cv2.waitKey(0)"
   ]
  },
  {
   "cell_type": "markdown",
   "metadata": {},
   "source": [
    "## Q.16. Prewitt 滤波器\n",
    "\n",
    "使用3x3的 Prewitt 滤波器来进行滤波吧。\n",
    "\n",
    "Prewitt 滤波器是用于边缘检测的一种滤波器，使用下式定义：\n",
    "\n",
    "```bash\n",
    "    (a)纵向          (b)横向\n",
    "      -1 -1 -1          -1 0 1\n",
    "K = [  0  0  0 ]  K = [ -1 0 1 ]\n",
    "       1  1  1          -1 0 1\n",
    "```\n",
    "| 输入 (imori.jpg) | 输出・纵向 (answers/answer_16_v.jpg) | 输出・横向 (answers/answer_16_h.jpg) |\n",
    "| :--------------: | :----------------------------------: | :----------------------------------: |\n",
    "|  ![](imori.jpg)  |     ![](answers/answer_16_v.jpg)     |     ![](answers/answer_16_h.jpg)     |"
   ]
  },
  {
   "cell_type": "code",
   "execution_count": 29,
   "metadata": {},
   "outputs": [
    {
     "data": {
      "text/plain": [
       "-1"
      ]
     },
     "execution_count": 29,
     "metadata": {},
     "output_type": "execute_result"
    }
   ],
   "source": [
    "import cv2\n",
    "import numpy as np\n",
    "\n",
    "img = cv2.imread(\"imori.jpg\")\n",
    "H,W,C = img.shape\n",
    "\n",
    "blue = img[...,0].copy()\n",
    "green = img[...,1].copy()\n",
    "red = img[...,2].copy()\n",
    "\n",
    "Y = 0.2126*red + 0.7152*green + 0.0722*blue\n",
    "Y = Y.astype(np.uint8)\n",
    "\n",
    "K_size = 3\n",
    "pad = K_size // 2\n",
    "\n",
    "out = np.zeros((pad*2+H,pad*2+W),dtype=np.float)\n",
    "out[pad:pad+H,pad:pad+W] = Y.copy().astype(np.float)\n",
    "\n",
    "tmp = out.copy()\n",
    "out_a = out.copy()\n",
    "out_b = out.copy()\n",
    "\n",
    "K_a =[[-1.,-1.,-1],[0.,0.,0.],[1.,1.,1.]]\n",
    "K_b = [[-1.,0.,1.],[-1.,0.,1.],[-1.,0.,1.]]\n",
    "\n",
    "for i in range(H):\n",
    "    for j in range(W):\n",
    "        out_a[pad+i,pad+j] = np.sum(K_a*tmp[i:i+K_size,j:j+K_size])\n",
    "        out_b[pad+i,pad+j] = np.sum(K_b*tmp[i:i+K_size,j:j+K_size])\n",
    "        \n",
    "out_a[out_a<0] = 0\n",
    "out_b[out_b<0] = 0\n",
    "out_a[out_a>255] = 255\n",
    "out_b[out_b>255] = 255\n",
    "\n",
    "out_a = out_a[pad:pad+H,pad:pad+W].astype(np.uint8)\n",
    "out_b = out_b[pad:pad+H,pad:pad+W].astype(np.uint8)\n",
    "\n",
    "cv2.imshow('',out_a)\n",
    "cv2.waitKey(0)\n",
    "cv2.imshow('',out_b)\n",
    "cv2.waitKey(0)"
   ]
  },
  {
   "cell_type": "markdown",
   "metadata": {},
   "source": [
    "## Q.17. Laplacian 滤波器\n",
    "\n",
    "使用 Laplacian 滤波器来进行滤波吧。\n",
    "\n",
    "Laplacian 滤波器是对图像亮度进行二次微分从而检测边缘的滤波器。由于数字图像是离散的，x 方向和 y 方向的一次微分分别按照以下式子计算：\n",
    "\n",
    "```bash\n",
    "Ix(x,y) = (I(x+1, y) - I(x,y)) / ((x+1)-x) = I(x+1, y) - I(x,y)\n",
    "Iy(x,y) = (I(x, y+1) - I(x,y)) / ((y+1)-y) = I(x, y+1) - I(x,y)\n",
    "```\n",
    "\n",
    "因此二次微分按照以下式子计算：\n",
    "\n",
    "```bash\n",
    "Ixx(x,y) = (Ix(x,y) - Ix(x-1,y)) / ((x+1)-x) = Ix(x,y) - Ix(x-1,y)\n",
    "         = (I(x+1, y) - I(x,y)) - (I(x, y) - I(x-1,y))\n",
    "         = I(x+1,y) - 2 * I(x,y) + I(x-1,y)\n",
    "Iyy(x,y) = ... = I(x,y+1) - 2 * I(x,y) + I(x,y-1)\n",
    "```\n",
    "\n",
    "特此，Laplacian 表达式如下：\n",
    "\n",
    "```bash\n",
    "D^2 I(x,y) = Ixx(x,y) + Iyy(x,y)\n",
    "           = I(x-1,y) + I(x,y-1) - 4 * I(x,y) + I(x+1,y) + I(x,y+1)\n",
    "```\n",
    "\n",
    "如果把这个式子表示为卷积核是下面这样的：\n",
    "\n",
    "```bash\n",
    "      0  1  0\n",
    "K = [ 1 -4  1 ]\n",
    "      0  1  0\n",
    "```\n",
    "| 输入 (imori.jpg) | 输出(answers/answer_17.jpg) |\n",
    "| :--------------: | :-------------------------: |\n",
    "|  ![](imori.jpg)  | ![](answers/answer_17.jpg)  |  |"
   ]
  },
  {
   "cell_type": "code",
   "execution_count": 30,
   "metadata": {},
   "outputs": [
    {
     "data": {
      "text/plain": [
       "-1"
      ]
     },
     "execution_count": 30,
     "metadata": {},
     "output_type": "execute_result"
    }
   ],
   "source": [
    "import cv2\n",
    "import numpy as np\n",
    "\n",
    "img = cv2.imread(\"imori.jpg\")\n",
    "H,W,C = img.shape\n",
    "\n",
    "blue = img[...,0].copy()\n",
    "green = img[...,1].copy()\n",
    "red = img[...,2].copy()\n",
    "\n",
    "Y = 0.2126*red + 0.7152*green + 0.0722*blue\n",
    "Y = Y.astype(np.uint8)\n",
    "\n",
    "K_size = 3\n",
    "pad = K_size //2\n",
    "\n",
    "out = np.zeros((pad*2+H,pad*2+W),dtype=np.float)\n",
    "out[pad:pad+H,pad:pad+W] = Y.copy().astype(np.float)\n",
    "\n",
    "tmp = out.copy()\n",
    "\n",
    "K = [[0.,1.,0.],[1.,-4.,1.],[0.,1.,0.]]\n",
    "\n",
    "for i in range(H):\n",
    "    for j in range(W):\n",
    "        out[i+pad,j+pad] = np.sum(K*tmp[i:i+K_size,j:j+K_size])\n",
    "        \n",
    "        \n",
    "out[out<0] = 0\n",
    "out[out>255] = 255\n",
    "\n",
    "out = out[pad:pad+H,pad:pad+W].astype(np.uint8)\n",
    "\n",
    "\n",
    "cv2.imshow('',out)\n",
    "cv2.waitKey(0)\n"
   ]
  },
  {
   "cell_type": "markdown",
   "metadata": {},
   "source": [
    "## Q.18. Emboss 滤波器\n",
    "\n",
    "使用 Emboss 滤波器来进行滤波吧。\n",
    "\n",
    "Emboss 滤波器可以使物体轮廓更加清晰，按照以下式子定义：\n",
    "\n",
    "```bash\n",
    "      -2 -1  0\n",
    "K = [ -1  1  1 ]\n",
    "       0  1  2\n",
    "```\n",
    "| 输入 (imori.jpg) | 输出(answers/answer_18.jpg) |\n",
    "| :--------------: | :-------------------------: |\n",
    "|  ![](imori.jpg)  | ![](answers/answer_18.jpg)  |"
   ]
  },
  {
   "cell_type": "code",
   "execution_count": 31,
   "metadata": {},
   "outputs": [
    {
     "data": {
      "text/plain": [
       "-1"
      ]
     },
     "execution_count": 31,
     "metadata": {},
     "output_type": "execute_result"
    }
   ],
   "source": [
    "import cv2\n",
    "import numpy as np\n",
    "\n",
    "img = cv2.imread(\"imori.jpg\")\n",
    "H,W,C = img.shape\n",
    "\n",
    "blue = img[...,0].copy()\n",
    "green = img[...,1].copy()\n",
    "red = img[...,2].copy()\n",
    "\n",
    "Y = 0.2126*red + 0.7152*green + 0.0722*blue\n",
    "Y = Y.astype(np.uint8)\n",
    "\n",
    "K_size = 3\n",
    "pad = K_size //2\n",
    "\n",
    "out = np.zeros((pad*2+H,pad*2+W),dtype=np.float)\n",
    "out[pad:pad+H,pad:pad+W] = Y.copy().astype(np.float)\n",
    "\n",
    "tmp = out.copy()\n",
    "\n",
    "K = [[-2.,-1.,0.],[-1.,1.,1.],[0.,1.,2.]]\n",
    "\n",
    "for i in range(H):\n",
    "    for j in range(W):\n",
    "        out[i+pad,j+pad] = np.sum(K*tmp[i:i+K_size,j:j+K_size])\n",
    "        \n",
    "        \n",
    "out[out<0] = 0\n",
    "out[out>255] = 255\n",
    "\n",
    "out = out[pad:pad+H,pad:pad+W].astype(np.uint8)\n",
    "\n",
    "\n",
    "cv2.imshow('',out)\n",
    "cv2.waitKey(0)"
   ]
  },
  {
   "cell_type": "markdown",
   "metadata": {},
   "source": [
    "## Q.19. LoG 滤波器\n",
    "\n",
    "使用 LoG  滤波器，来对`imori_noise.jpg`检测边缘吧！\n",
    "\n",
    " LoG  即高斯-拉普拉斯（ Laplacian of Gaussian ）的缩写，使用高斯滤波器使图像平滑化之后再使用拉普拉斯滤波器使图像的轮廓更加清晰。\n",
    "\n",
    "为了防止拉普拉斯滤波器计算二次微分会使得图像噪声更加明显，所以我们首先使用高斯滤波器来抑制噪声。\n",
    "\n",
    " LoG  滤波器使用以下式子定义：\n",
    "\n",
    "```bash\n",
    "LoG(x,y) = (x^2 + y^2 - s^2) / (2 * pi * s^6) * exp(-(x^2+y^2) / (2*s^2))\n",
    "```\n",
    "| 输入 (imori_noise.jpg) | 输出 (answers/answer_19.jpg) |\n",
    "| :--------------------: | :--------------------------: |\n",
    "|  ![](imori_noise.jpg)  |  ![](answers/answer_19.jpg)  |"
   ]
  },
  {
   "cell_type": "code",
   "execution_count": 36,
   "metadata": {},
   "outputs": [
    {
     "data": {
      "text/plain": [
       "-1"
      ]
     },
     "execution_count": 36,
     "metadata": {},
     "output_type": "execute_result"
    }
   ],
   "source": [
    "import cv2\n",
    "import numpy as np\n",
    "\n",
    "img = cv2.imread(\"imori.jpg\")\n",
    "H,W,C = img.shape\n",
    "\n",
    "blue = img[...,0].copy()\n",
    "green = img[...,1].copy()\n",
    "red = img[...,2].copy()\n",
    "\n",
    "Y = 0.2126*red + 0.7152*green + 0.0722*blue\n",
    "Y = Y.astype(np.uint8)\n",
    "\n",
    "K_size = 5\n",
    "s = 3\n",
    "pad = K_size //2\n",
    "\n",
    "out = np.zeros((pad*2+H,pad*2+W),dtype=np.float)\n",
    "out[pad:pad+H,pad:pad+W] = Y.copy().astype(np.float)\n",
    "\n",
    "tmp = out.copy()\n",
    "\n",
    "K = np.zeros((K_size,K_size),dtype=np.float)\n",
    "for i in range(-pad,-pad+K_size):\n",
    "    for j in range(-pad,-pad+K_size):\n",
    "        K[i+pad,j+pad] = (i**2+j**2 -s**2)*(np.exp(-(i**2+j**2)/(2*(s**2))))\n",
    "        \n",
    "K /= (2*np.pi*(s**6))\n",
    "K /= K.sum()\n",
    "for i in range(H):\n",
    "    for j in range(W):\n",
    "        out[i+pad,j+pad] = np.sum(K*tmp[i:i+K_size,j:j+K_size])\n",
    "        \n",
    "out = out[pad:pad+H,pad:pad+W].astype(np.uint8)\n",
    "\n",
    "\n",
    "cv2.imshow('',out)\n",
    "cv2.waitKey(0)"
   ]
  },
  {
   "cell_type": "markdown",
   "metadata": {},
   "source": [
    "## Q.20. 直方图\n",
    "\n",
    "使用`Matplotlib`来绘制`imori_dark.jpg`的直方图吧！\n",
    "\n",
    "直方图显示了不同数值的像素出现的次数。在`Matplotlib`中有`hist()`函数提供绘制直方图的接口。\n",
    "\n",
    "| 输入 (imori_dark.jpg) | 输出 (answers/answer_20.png) |\n",
    "| :-------------------: | :--------------------------: |\n",
    "|  ![](imori_dark.jpg)  |  ![](answers/answer_20.png)  |"
   ]
  },
  {
   "cell_type": "code",
   "execution_count": 40,
   "metadata": {},
   "outputs": [
    {
     "data": {
      "image/png": "[encoded data removed]",
      "text/plain": [
       "<Figure size 432x288 with 1 Axes>"
      ]
     },
     "metadata": {},
     "output_type": "display_data"
    }
   ],
   "source": [
    "import cv2\n",
    "import numpy as np\n",
    "import matplotlib.pyplot as plt\n",
    "\n",
    "\n",
    "img = cv2.imread(\"imori_dark.jpg\")#.astype(np.float)\n",
    "\n",
    "plt.hist(img.ravel(), bins=255, rwidth=0.8, range=(0, 255))\n",
    "plt.show()"
   ]
  },
  {
   "cell_type": "code",
   "execution_count": null,
   "metadata": {
    "collapsed": true
   },
   "outputs": [],
   "source": []
  }
 ],
 "metadata": {
  "kernelspec": {
   "display_name": "Python 3",
   "language": "python",
   "name": "python3"
  },
  "language_info": {
   "codemirror_mode": {
    "name": "ipython",
    "version": 3
   },
   "file_extension": ".py",
   "mimetype": "text/x-python",
   "name": "python",
   "nbconvert_exporter": "python",
   "pygments_lexer": "ipython3",
   "version": "3.6.3"
  }
 },
 "nbformat": 4,
 "nbformat_minor": 2
}
